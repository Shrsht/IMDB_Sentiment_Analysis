{
 "cells": [
  {
   "cell_type": "markdown",
   "id": "a789458e",
   "metadata": {},
   "source": [
    "# FELLOWSHIP AI - IMDB REVIEWS NLP CHALLENGE\n",
    "\n",
    "-**SHRESHT VENKATRAMAN\n",
    "shresht.v24@gmail.com**\n",
    "\n",
    "Hi, This Notebook contains my submission for the Fellowship AI coding challenge. Please find the details of the challenge below. "
   ]
  },
  {
   "cell_type": "markdown",
   "id": "95bedcaf",
   "metadata": {},
   "source": [
    "We begin by importing the required packages and loading the dataset:"
   ]
  },
  {
   "cell_type": "code",
   "execution_count": 1,
   "id": "97c8ea3d",
   "metadata": {},
   "outputs": [],
   "source": [
    "import pandas as pd\n",
    "import numpy as np\n",
    "import wordcloud\n",
    "from sklearn.model_selection import train_test_split\n",
    "import nltk\n",
    "import matplotlib.pyplot as plt\n",
    "from wordcloud import WordCloud,STOPWORDS\n",
    "from collections import Counter"
   ]
  },
  {
   "cell_type": "code",
   "execution_count": 2,
   "id": "a5ab18f7",
   "metadata": {},
   "outputs": [
    {
     "data": {
      "text/html": [
       "<div>\n",
       "<style scoped>\n",
       "    .dataframe tbody tr th:only-of-type {\n",
       "        vertical-align: middle;\n",
       "    }\n",
       "\n",
       "    .dataframe tbody tr th {\n",
       "        vertical-align: top;\n",
       "    }\n",
       "\n",
       "    .dataframe thead th {\n",
       "        text-align: right;\n",
       "    }\n",
       "</style>\n",
       "<table border=\"1\" class=\"dataframe\">\n",
       "  <thead>\n",
       "    <tr style=\"text-align: right;\">\n",
       "      <th></th>\n",
       "      <th>review</th>\n",
       "      <th>sentiment</th>\n",
       "    </tr>\n",
       "  </thead>\n",
       "  <tbody>\n",
       "    <tr>\n",
       "      <th>0</th>\n",
       "      <td>One of the other reviewers has mentioned that ...</td>\n",
       "      <td>positive</td>\n",
       "    </tr>\n",
       "    <tr>\n",
       "      <th>1</th>\n",
       "      <td>A wonderful little production. &lt;br /&gt;&lt;br /&gt;The...</td>\n",
       "      <td>positive</td>\n",
       "    </tr>\n",
       "    <tr>\n",
       "      <th>2</th>\n",
       "      <td>I thought this was a wonderful way to spend ti...</td>\n",
       "      <td>positive</td>\n",
       "    </tr>\n",
       "    <tr>\n",
       "      <th>3</th>\n",
       "      <td>Basically there's a family where a little boy ...</td>\n",
       "      <td>negative</td>\n",
       "    </tr>\n",
       "    <tr>\n",
       "      <th>4</th>\n",
       "      <td>Petter Mattei's \"Love in the Time of Money\" is...</td>\n",
       "      <td>positive</td>\n",
       "    </tr>\n",
       "    <tr>\n",
       "      <th>...</th>\n",
       "      <td>...</td>\n",
       "      <td>...</td>\n",
       "    </tr>\n",
       "    <tr>\n",
       "      <th>49995</th>\n",
       "      <td>I thought this movie did a down right good job...</td>\n",
       "      <td>positive</td>\n",
       "    </tr>\n",
       "    <tr>\n",
       "      <th>49996</th>\n",
       "      <td>Bad plot, bad dialogue, bad acting, idiotic di...</td>\n",
       "      <td>negative</td>\n",
       "    </tr>\n",
       "    <tr>\n",
       "      <th>49997</th>\n",
       "      <td>I am a Catholic taught in parochial elementary...</td>\n",
       "      <td>negative</td>\n",
       "    </tr>\n",
       "    <tr>\n",
       "      <th>49998</th>\n",
       "      <td>I'm going to have to disagree with the previou...</td>\n",
       "      <td>negative</td>\n",
       "    </tr>\n",
       "    <tr>\n",
       "      <th>49999</th>\n",
       "      <td>No one expects the Star Trek movies to be high...</td>\n",
       "      <td>negative</td>\n",
       "    </tr>\n",
       "  </tbody>\n",
       "</table>\n",
       "<p>50000 rows × 2 columns</p>\n",
       "</div>"
      ],
      "text/plain": [
       "                                                  review sentiment\n",
       "0      One of the other reviewers has mentioned that ...  positive\n",
       "1      A wonderful little production. <br /><br />The...  positive\n",
       "2      I thought this was a wonderful way to spend ti...  positive\n",
       "3      Basically there's a family where a little boy ...  negative\n",
       "4      Petter Mattei's \"Love in the Time of Money\" is...  positive\n",
       "...                                                  ...       ...\n",
       "49995  I thought this movie did a down right good job...  positive\n",
       "49996  Bad plot, bad dialogue, bad acting, idiotic di...  negative\n",
       "49997  I am a Catholic taught in parochial elementary...  negative\n",
       "49998  I'm going to have to disagree with the previou...  negative\n",
       "49999  No one expects the Star Trek movies to be high...  negative\n",
       "\n",
       "[50000 rows x 2 columns]"
      ]
     },
     "execution_count": 2,
     "metadata": {},
     "output_type": "execute_result"
    }
   ],
   "source": [
    "data = pd.read_csv(\"Downloads/IMDB Dataset.csv\")\n",
    "data"
   ]
  },
  {
   "cell_type": "markdown",
   "id": "7a2aaf05",
   "metadata": {},
   "source": [
    "# EXPLORING THE DATA SET\n",
    "\n",
    "Now that we have loaded the dataset we will first exploring the data set to understand what kind of data we have to work with:"
   ]
  },
  {
   "cell_type": "markdown",
   "id": "7c5f9677",
   "metadata": {},
   "source": [
    "Examining the 'Sentiment' column below, we see that there are an **equal** number of comments classified as 'Positive' & 'Negative'.\n",
    "\n",
    "This is useful because it means that our data set is not inherently biased and we do not need to make an unbiased sample from the dataset"
   ]
  },
  {
   "cell_type": "code",
   "execution_count": 36,
   "id": "ba31048f",
   "metadata": {},
   "outputs": [
    {
     "data": {
      "text/plain": [
       "positive    25000\n",
       "negative    25000\n",
       "Name: sentiment, dtype: int64"
      ]
     },
     "execution_count": 36,
     "metadata": {},
     "output_type": "execute_result"
    }
   ],
   "source": [
    "data['sentiment'].value_counts()"
   ]
  },
  {
   "cell_type": "markdown",
   "id": "9120792f",
   "metadata": {},
   "source": [
    "### Examining the classes\n",
    "\n",
    "We will now examine the comments classified as positive and negative to see if there are any patterns/ extractable features from the comments in the data set."
   ]
  },
  {
   "cell_type": "code",
   "execution_count": 37,
   "id": "88cdc37b",
   "metadata": {},
   "outputs": [],
   "source": [
    "## Filtering the data set into only containing the respective positive and negative comments\n",
    "neg_comments = data.loc[data['sentiment'] == 'negative'] ## DATA FRAME OF NEGATIVE-LABELLED COMMENTS;\n",
    "pos_comments = data.loc[data['sentiment'] == 'positive'] ## DATA FRAME OF POSITIVE-LABELLED COMMENTS;\n",
    "neg_comments.reset_index(inplace=True) #Resetting Indices for plotting\n",
    "pos_comments.reset_index(inplace=True) #Resetting Indices for plotting\n",
    "\n",
    "neg_comments = neg_comments.rename(columns = {'review':'negative_review'}) #Resetting column names for plotting\n",
    "pos_comments = pos_comments.rename(columns = {'review':'positive_review'}) #Resetting column names for plotting\n"
   ]
  },
  {
   "cell_type": "code",
   "execution_count": null,
   "id": "1d5c1ef0",
   "metadata": {},
   "outputs": [],
   "source": []
  },
  {
   "cell_type": "markdown",
   "id": "9d872cea",
   "metadata": {},
   "source": [
    "### Plotting Comment Length\n",
    "\n",
    "We will plot a Histogram to see view the general distribution of comment lengths across both classes:"
   ]
  },
  {
   "cell_type": "code",
   "execution_count": 38,
   "id": "91734ca7",
   "metadata": {},
   "outputs": [
    {
     "data": {
      "text/plain": [
       "<AxesSubplot:>"
      ]
     },
     "execution_count": 38,
     "metadata": {},
     "output_type": "execute_result"
    },
    {
     "data": {
      "image/png": "[encoded data removed]",
      "text/plain": [
       "<Figure size 640x480 with 1 Axes>"
      ]
     },
     "metadata": {},
     "output_type": "display_data"
    }
   ],
   "source": [
    "pos_comments.positive_review.str.len().hist(legend = True)\n",
    "neg_comments.negative_review.str.len().hist(legend = True)"
   ]
  },
  {
   "cell_type": "markdown",
   "id": "d382ddc2",
   "metadata": {},
   "source": [
    "- We see above that the general distribution of the 2 classes' comment size is roughly the same.\n",
    "- We also see that for both classes, the majority of reviews are less than 2000 characters. \n",
    "- The longest reviews tend to be positive\n"
   ]
  },
  {
   "cell_type": "markdown",
   "id": "99798a2a",
   "metadata": {},
   "source": [
    "# Cleaning the Data\n",
    "\n",
    "We can learn even more about the data set when we clean the data up a little bit and remove many unecesarry things like : \n",
    "\n",
    "- HTML Tags\n",
    "- Stopwords like 'in', 'at' , 'and' , 'of' ,etc. \n",
    "- Special characters like /, : , . , etc.\n",
    "- Word modifications and infelctions"
   ]
  },
  {
   "cell_type": "markdown",
   "id": "80973f10",
   "metadata": {},
   "source": [
    "## 1) Binarizing our Sentiment Variable (y) \n",
    "\n",
    "In order to make our ML-modeling process easier, we will binarize our Sentiment Label - positive / negative into a numerical formal of 1 - Positive and 0 - Negative"
   ]
  },
  {
   "cell_type": "code",
   "execution_count": 39,
   "id": "9c257a17",
   "metadata": {},
   "outputs": [],
   "source": [
    "data.sentiment.replace('positive',1,inplace=True)\n",
    "data.sentiment.replace('negative',0,inplace=True)"
   ]
  },
  {
   "cell_type": "code",
   "execution_count": 40,
   "id": "94995568",
   "metadata": {},
   "outputs": [
    {
     "data": {
      "text/html": [
       "<div>\n",
       "<style scoped>\n",
       "    .dataframe tbody tr th:only-of-type {\n",
       "        vertical-align: middle;\n",
       "    }\n",
       "\n",
       "    .dataframe tbody tr th {\n",
       "        vertical-align: top;\n",
       "    }\n",
       "\n",
       "    .dataframe thead th {\n",
       "        text-align: right;\n",
       "    }\n",
       "</style>\n",
       "<table border=\"1\" class=\"dataframe\">\n",
       "  <thead>\n",
       "    <tr style=\"text-align: right;\">\n",
       "      <th></th>\n",
       "      <th>review</th>\n",
       "      <th>sentiment</th>\n",
       "    </tr>\n",
       "  </thead>\n",
       "  <tbody>\n",
       "    <tr>\n",
       "      <th>0</th>\n",
       "      <td>One of the other reviewers has mentioned that ...</td>\n",
       "      <td>1</td>\n",
       "    </tr>\n",
       "    <tr>\n",
       "      <th>1</th>\n",
       "      <td>A wonderful little production. &lt;br /&gt;&lt;br /&gt;The...</td>\n",
       "      <td>1</td>\n",
       "    </tr>\n",
       "    <tr>\n",
       "      <th>2</th>\n",
       "      <td>I thought this was a wonderful way to spend ti...</td>\n",
       "      <td>1</td>\n",
       "    </tr>\n",
       "    <tr>\n",
       "      <th>3</th>\n",
       "      <td>Basically there's a family where a little boy ...</td>\n",
       "      <td>0</td>\n",
       "    </tr>\n",
       "    <tr>\n",
       "      <th>4</th>\n",
       "      <td>Petter Mattei's \"Love in the Time of Money\" is...</td>\n",
       "      <td>1</td>\n",
       "    </tr>\n",
       "    <tr>\n",
       "      <th>...</th>\n",
       "      <td>...</td>\n",
       "      <td>...</td>\n",
       "    </tr>\n",
       "    <tr>\n",
       "      <th>49995</th>\n",
       "      <td>I thought this movie did a down right good job...</td>\n",
       "      <td>1</td>\n",
       "    </tr>\n",
       "    <tr>\n",
       "      <th>49996</th>\n",
       "      <td>Bad plot, bad dialogue, bad acting, idiotic di...</td>\n",
       "      <td>0</td>\n",
       "    </tr>\n",
       "    <tr>\n",
       "      <th>49997</th>\n",
       "      <td>I am a Catholic taught in parochial elementary...</td>\n",
       "      <td>0</td>\n",
       "    </tr>\n",
       "    <tr>\n",
       "      <th>49998</th>\n",
       "      <td>I'm going to have to disagree with the previou...</td>\n",
       "      <td>0</td>\n",
       "    </tr>\n",
       "    <tr>\n",
       "      <th>49999</th>\n",
       "      <td>No one expects the Star Trek movies to be high...</td>\n",
       "      <td>0</td>\n",
       "    </tr>\n",
       "  </tbody>\n",
       "</table>\n",
       "<p>50000 rows × 2 columns</p>\n",
       "</div>"
      ],
      "text/plain": [
       "                                                  review  sentiment\n",
       "0      One of the other reviewers has mentioned that ...          1\n",
       "1      A wonderful little production. <br /><br />The...          1\n",
       "2      I thought this was a wonderful way to spend ti...          1\n",
       "3      Basically there's a family where a little boy ...          0\n",
       "4      Petter Mattei's \"Love in the Time of Money\" is...          1\n",
       "...                                                  ...        ...\n",
       "49995  I thought this movie did a down right good job...          1\n",
       "49996  Bad plot, bad dialogue, bad acting, idiotic di...          0\n",
       "49997  I am a Catholic taught in parochial elementary...          0\n",
       "49998  I'm going to have to disagree with the previou...          0\n",
       "49999  No one expects the Star Trek movies to be high...          0\n",
       "\n",
       "[50000 rows x 2 columns]"
      ]
     },
     "execution_count": 40,
     "metadata": {},
     "output_type": "execute_result"
    }
   ],
   "source": [
    "data"
   ]
  },
  {
   "cell_type": "markdown",
   "id": "fdb2f74c",
   "metadata": {},
   "source": [
    "As seen above, our 'sentiment' columns now contains 0-1 instead of positive - negative"
   ]
  },
  {
   "cell_type": "markdown",
   "id": "8b9c3c2b",
   "metadata": {},
   "source": [
    "## 2)  REMOVING HTML TAGS\n",
    "As we can see below many of the reviews have HTML tags like <'br/>. We want to remove these before we implement our Sentiment Analysis Model. "
   ]
  },
  {
   "cell_type": "code",
   "execution_count": 41,
   "id": "20b03c29",
   "metadata": {},
   "outputs": [
    {
     "data": {
      "text/plain": [
       "'A wonderful little production. <br /><br />The filming technique is very unassuming- very old-time-BBC fashion and gives a comforting, and sometimes discomforting, sense of realism to the entire piece. <br /><br />The actors are extremely well chosen- Michael Sheen not only \"has got all the polari\" but he has all the voices down pat too! You can truly see the seamless editing guided by the references to Williams\\' diary entries, not only is it well worth the watching but it is a terrificly written and performed piece. A masterful production about one of the great master\\'s of comedy and his life. <br /><br />The realism really comes home with the little things: the fantasy of the guard which, rather than use the traditional \\'dream\\' techniques remains solid then disappears. It plays on our knowledge and our senses, particularly with the scenes concerning Orton and Halliwell and the sets (particularly of their flat with Halliwell\\'s murals decorating every surface) are terribly well done.'"
      ]
     },
     "execution_count": 41,
     "metadata": {},
     "output_type": "execute_result"
    }
   ],
   "source": [
    "data['review'][1]"
   ]
  },
  {
   "cell_type": "code",
   "execution_count": 42,
   "id": "40dcc0bb",
   "metadata": {},
   "outputs": [],
   "source": [
    "## Removing HTML Tags\n",
    "import re\n",
    "def html_cleaner(text):\n",
    "    clean = re.compile(r'<.*?>')\n",
    "    return re.sub(clean,'',text)\n",
    "\n",
    "data['review'] = data['review'].apply(html_cleaner)"
   ]
  },
  {
   "cell_type": "markdown",
   "id": "d5b75063",
   "metadata": {},
   "source": [
    "As seen below the HTML tags have been removed:"
   ]
  },
  {
   "cell_type": "code",
   "execution_count": 43,
   "id": "fef65802",
   "metadata": {},
   "outputs": [
    {
     "data": {
      "text/plain": [
       "'A wonderful little production. The filming technique is very unassuming- very old-time-BBC fashion and gives a comforting, and sometimes discomforting, sense of realism to the entire piece. The actors are extremely well chosen- Michael Sheen not only \"has got all the polari\" but he has all the voices down pat too! You can truly see the seamless editing guided by the references to Williams\\' diary entries, not only is it well worth the watching but it is a terrificly written and performed piece. A masterful production about one of the great master\\'s of comedy and his life. The realism really comes home with the little things: the fantasy of the guard which, rather than use the traditional \\'dream\\' techniques remains solid then disappears. It plays on our knowledge and our senses, particularly with the scenes concerning Orton and Halliwell and the sets (particularly of their flat with Halliwell\\'s murals decorating every surface) are terribly well done.'"
      ]
     },
     "execution_count": 43,
     "metadata": {},
     "output_type": "execute_result"
    }
   ],
   "source": [
    "data['review'][1]"
   ]
  },
  {
   "cell_type": "markdown",
   "id": "0f75613f",
   "metadata": {},
   "source": [
    "## 3) CONVERTING TO LOWER CASE\n",
    "\n",
    "Case differences usually don't help us too much with Sentiment Analysis, they are used more as Intensifiers as opposed to indicators of 'positive' or 'negative'. Hence we will remove them from our reviews."
   ]
  },
  {
   "cell_type": "code",
   "execution_count": 44,
   "id": "1a8a997d",
   "metadata": {},
   "outputs": [
    {
     "data": {
      "text/plain": [
       "'a wonderful little production. the filming technique is very unassuming- very old-time-bbc fashion and gives a comforting, and sometimes discomforting, sense of realism to the entire piece. the actors are extremely well chosen- michael sheen not only \"has got all the polari\" but he has all the voices down pat too! you can truly see the seamless editing guided by the references to williams\\' diary entries, not only is it well worth the watching but it is a terrificly written and performed piece. a masterful production about one of the great master\\'s of comedy and his life. the realism really comes home with the little things: the fantasy of the guard which, rather than use the traditional \\'dream\\' techniques remains solid then disappears. it plays on our knowledge and our senses, particularly with the scenes concerning orton and halliwell and the sets (particularly of their flat with halliwell\\'s murals decorating every surface) are terribly well done.'"
      ]
     },
     "execution_count": 44,
     "metadata": {},
     "output_type": "execute_result"
    }
   ],
   "source": [
    "data['review'] = data['review'].apply(lambda x: x.lower())\n",
    "data['review'][1]"
   ]
  },
  {
   "cell_type": "markdown",
   "id": "6b2b5f57",
   "metadata": {},
   "source": [
    "## 4) REMOVING SPECIAL CHARACTERS\n",
    "\n",
    "As seen in the text above, there are still occasional characters like **\\** or **;** that don't really aid our Sentiment Analysis model.So we remove them below"
   ]
  },
  {
   "cell_type": "code",
   "execution_count": 45,
   "id": "279035b3",
   "metadata": {},
   "outputs": [],
   "source": [
    "def special_char(text):\n",
    "    char = ''\n",
    "    for i in text:\n",
    "        if i.isalnum():\n",
    "            char = char + i\n",
    "        else:\n",
    "            char = char + ' ';\n",
    "    return char\n",
    "\n",
    "data['review'] = data['review'].apply(special_char)"
   ]
  },
  {
   "cell_type": "markdown",
   "id": "3ba7b331",
   "metadata": {},
   "source": [
    "As seen below we only have text, in the lowercase, without special characters and punctuation. "
   ]
  },
  {
   "cell_type": "code",
   "execution_count": 46,
   "id": "154f0e42",
   "metadata": {},
   "outputs": [
    {
     "data": {
      "text/plain": [
       "'a wonderful little production  the filming technique is very unassuming  very old time bbc fashion and gives a comforting  and sometimes discomforting  sense of realism to the entire piece  the actors are extremely well chosen  michael sheen not only  has got all the polari  but he has all the voices down pat too  you can truly see the seamless editing guided by the references to williams  diary entries  not only is it well worth the watching but it is a terrificly written and performed piece  a masterful production about one of the great master s of comedy and his life  the realism really comes home with the little things  the fantasy of the guard which  rather than use the traditional  dream  techniques remains solid then disappears  it plays on our knowledge and our senses  particularly with the scenes concerning orton and halliwell and the sets  particularly of their flat with halliwell s murals decorating every surface  are terribly well done '"
      ]
     },
     "execution_count": 46,
     "metadata": {},
     "output_type": "execute_result"
    }
   ],
   "source": [
    "data['review'][1]"
   ]
  },
  {
   "cell_type": "markdown",
   "id": "025605ba",
   "metadata": {},
   "source": [
    "## 5) REMOVING 'STOPWORDS'\n",
    "\n",
    "**Stopwords**: refer to words like *“the”, “a”, “an”, “in”* , which are mere grammitical particles that do not provide much value to our Sentiment Analysis Model. Thus removing them saves us space in our data set as well as reduces the redundancy in time taken to analyse the data set. "
   ]
  },
  {
   "cell_type": "code",
   "execution_count": 47,
   "id": "d8185cd1",
   "metadata": {},
   "outputs": [],
   "source": [
    "from nltk.corpus import stopwords\n",
    "from nltk.tokenize import word_tokenize\n",
    "\n",
    "\n",
    "def remove_stopwords(text):\n",
    "    stop_words_set = set(stopwords.words('english'))\n",
    "    word_list = word_tokenize(text)\n",
    "    \n",
    "    return [i for i in word_list if i not in stop_words_set]"
   ]
  },
  {
   "cell_type": "code",
   "execution_count": 48,
   "id": "5a10ea6f",
   "metadata": {},
   "outputs": [
    {
     "data": {
      "text/plain": [
       "['one',\n",
       " 'reviewers',\n",
       " 'mentioned',\n",
       " 'watching',\n",
       " '1',\n",
       " 'oz',\n",
       " 'episode',\n",
       " 'hooked',\n",
       " 'right',\n",
       " 'exactly',\n",
       " 'happened',\n",
       " 'first',\n",
       " 'thing',\n",
       " 'struck',\n",
       " 'oz',\n",
       " 'brutality',\n",
       " 'unflinching',\n",
       " 'scenes',\n",
       " 'violence',\n",
       " 'set',\n",
       " 'right',\n",
       " 'word',\n",
       " 'go',\n",
       " 'trust',\n",
       " 'show',\n",
       " 'faint',\n",
       " 'hearted',\n",
       " 'timid',\n",
       " 'show',\n",
       " 'pulls',\n",
       " 'punches',\n",
       " 'regards',\n",
       " 'drugs',\n",
       " 'sex',\n",
       " 'violence',\n",
       " 'hardcore',\n",
       " 'classic',\n",
       " 'use',\n",
       " 'word',\n",
       " 'called',\n",
       " 'oz',\n",
       " 'nickname',\n",
       " 'given',\n",
       " 'oswald',\n",
       " 'maximum',\n",
       " 'security',\n",
       " 'state',\n",
       " 'penitentary',\n",
       " 'focuses',\n",
       " 'mainly',\n",
       " 'emerald',\n",
       " 'city',\n",
       " 'experimental',\n",
       " 'section',\n",
       " 'prison',\n",
       " 'cells',\n",
       " 'glass',\n",
       " 'fronts',\n",
       " 'face',\n",
       " 'inwards',\n",
       " 'privacy',\n",
       " 'high',\n",
       " 'agenda',\n",
       " 'em',\n",
       " 'city',\n",
       " 'home',\n",
       " 'many',\n",
       " 'aryans',\n",
       " 'muslims',\n",
       " 'gangstas',\n",
       " 'latinos',\n",
       " 'christians',\n",
       " 'italians',\n",
       " 'irish',\n",
       " 'scuffles',\n",
       " 'death',\n",
       " 'stares',\n",
       " 'dodgy',\n",
       " 'dealings',\n",
       " 'shady',\n",
       " 'agreements',\n",
       " 'never',\n",
       " 'far',\n",
       " 'away',\n",
       " 'would',\n",
       " 'say',\n",
       " 'main',\n",
       " 'appeal',\n",
       " 'show',\n",
       " 'due',\n",
       " 'fact',\n",
       " 'goes',\n",
       " 'shows',\n",
       " 'dare',\n",
       " 'forget',\n",
       " 'pretty',\n",
       " 'pictures',\n",
       " 'painted',\n",
       " 'mainstream',\n",
       " 'audiences',\n",
       " 'forget',\n",
       " 'charm',\n",
       " 'forget',\n",
       " 'romance',\n",
       " 'oz',\n",
       " 'mess',\n",
       " 'around',\n",
       " 'first',\n",
       " 'episode',\n",
       " 'ever',\n",
       " 'saw',\n",
       " 'struck',\n",
       " 'nasty',\n",
       " 'surreal',\n",
       " 'say',\n",
       " 'ready',\n",
       " 'watched',\n",
       " 'developed',\n",
       " 'taste',\n",
       " 'oz',\n",
       " 'got',\n",
       " 'accustomed',\n",
       " 'high',\n",
       " 'levels',\n",
       " 'graphic',\n",
       " 'violence',\n",
       " 'violence',\n",
       " 'injustice',\n",
       " 'crooked',\n",
       " 'guards',\n",
       " 'sold',\n",
       " 'nickel',\n",
       " 'inmates',\n",
       " 'kill',\n",
       " 'order',\n",
       " 'get',\n",
       " 'away',\n",
       " 'well',\n",
       " 'mannered',\n",
       " 'middle',\n",
       " 'class',\n",
       " 'inmates',\n",
       " 'turned',\n",
       " 'prison',\n",
       " 'bitches',\n",
       " 'due',\n",
       " 'lack',\n",
       " 'street',\n",
       " 'skills',\n",
       " 'prison',\n",
       " 'experience',\n",
       " 'watching',\n",
       " 'oz',\n",
       " 'may',\n",
       " 'become',\n",
       " 'comfortable',\n",
       " 'uncomfortable',\n",
       " 'viewing',\n",
       " 'thats',\n",
       " 'get',\n",
       " 'touch',\n",
       " 'darker',\n",
       " 'side']"
      ]
     },
     "execution_count": 48,
     "metadata": {},
     "output_type": "execute_result"
    }
   ],
   "source": [
    "data['review'] = data['review'].apply(remove_stopwords)\n",
    "\n",
    "data['review'][0]"
   ]
  },
  {
   "cell_type": "markdown",
   "id": "e5ad4b58",
   "metadata": {},
   "source": [
    "## 6) OBTAIN WORD STEMS\n",
    "\n",
    "In many words, we have conjugational, inflexional prefixes and suffixes that have grammatical use but are not useful for our Sentiment Analysis model. As a result remove these additional inflexions to obtain just the word-stems."
   ]
  },
  {
   "cell_type": "code",
   "execution_count": 49,
   "id": "ad7c3da1",
   "metadata": {},
   "outputs": [],
   "source": [
    "from nltk.stem import SnowballStemmer\n",
    "\n",
    "def obtain_stem(text):\n",
    "    \n",
    "    eng_stems = SnowballStemmer('english')\n",
    "    return \" \".join([eng_stems.stem(word) for word in text])\n",
    "  "
   ]
  },
  {
   "cell_type": "code",
   "execution_count": 50,
   "id": "2a2b2270",
   "metadata": {},
   "outputs": [],
   "source": [
    "data['review'] = data['review'].apply(obtain_stem)"
   ]
  },
  {
   "cell_type": "markdown",
   "id": "f22846b9",
   "metadata": {},
   "source": [
    "As seen below, we have removed many of the inflexional and conjugational prefixes and suffixes from the reviews and the resulting review appears as below:"
   ]
  },
  {
   "cell_type": "code",
   "execution_count": 51,
   "id": "6606de5b",
   "metadata": {},
   "outputs": [
    {
     "data": {
      "text/plain": [
       "'wonder littl product film techniqu unassum old time bbc fashion give comfort sometim discomfort sens realism entir piec actor extrem well chosen michael sheen got polari voic pat truli see seamless edit guid refer william diari entri well worth watch terrif written perform piec master product one great master comedi life realism realli come home littl thing fantasi guard rather use tradit dream techniqu remain solid disappear play knowledg sens particular scene concern orton halliwel set particular flat halliwel mural decor everi surfac terribl well done'"
      ]
     },
     "execution_count": 51,
     "metadata": {},
     "output_type": "execute_result"
    }
   ],
   "source": [
    "data['review'][1]"
   ]
  },
  {
   "cell_type": "markdown",
   "id": "cca64ebd",
   "metadata": {},
   "source": [
    "# MODEL BUILDING\n",
    "\n",
    "We can now proceed to building and testing various models"
   ]
  },
  {
   "cell_type": "markdown",
   "id": "dbf2acaf",
   "metadata": {},
   "source": [
    "## 1) BAG OF WORDS (BOW)\n",
    "\n",
    "A **Bag-of-Words** is a representation of text that describes the occurrence of words within a document. It involves two things:\n",
    "\n",
    " - A vocabulary of known words.\n",
    " - A measure of the presence of known words.\n",
    "\n",
    "The simplest measurement is to mark the presence of words in a given text as a boolean value, 0 for absent, 1 for present."
   ]
  },
  {
   "cell_type": "code",
   "execution_count": 52,
   "id": "77caf23d",
   "metadata": {},
   "outputs": [],
   "source": [
    "## Importing required package to create BOW:\n",
    "from sklearn.feature_extraction.text import CountVectorizer"
   ]
  },
  {
   "cell_type": "code",
   "execution_count": 53,
   "id": "e3be39ec",
   "metadata": {},
   "outputs": [],
   "source": [
    "## X represents out Reviews\n",
    "## y represents the predicted value of Positive (1) or Negative (0)\n",
    "\n",
    "X = data.iloc[:,0]\n",
    "y = data.iloc[:,1]"
   ]
  },
  {
   "cell_type": "code",
   "execution_count": 54,
   "id": "91056741",
   "metadata": {},
   "outputs": [
    {
     "name": "stdout",
     "output_type": "stream",
     "text": [
      "X.shape =  (50000, 1000)\n",
      "y.shape =  (50000,)\n"
     ]
    }
   ],
   "source": [
    "cv = CountVectorizer(max_features = 1000)\n",
    "X = cv.fit_transform(data.review).toarray()\n",
    "\n",
    "print(\"X.shape = \",X.shape)\n",
    "print(\"y.shape = \",y.shape)"
   ]
  },
  {
   "cell_type": "code",
   "execution_count": 55,
   "id": "b2c726f5",
   "metadata": {},
   "outputs": [
    {
     "data": {
      "text/plain": [
       "array([[0, 0, 0, ..., 0, 0, 0],\n",
       "       [0, 0, 0, ..., 0, 0, 0],\n",
       "       [0, 0, 0, ..., 0, 1, 0],\n",
       "       ...,\n",
       "       [0, 0, 0, ..., 0, 0, 0],\n",
       "       [0, 0, 1, ..., 0, 0, 0],\n",
       "       [0, 0, 0, ..., 0, 0, 0]])"
      ]
     },
     "execution_count": 55,
     "metadata": {},
     "output_type": "execute_result"
    }
   ],
   "source": [
    "X"
   ]
  },
  {
   "cell_type": "markdown",
   "id": "7e9c98da",
   "metadata": {},
   "source": [
    "# Split into Train, Test and Validation\n"
   ]
  },
  {
   "cell_type": "code",
   "execution_count": 56,
   "id": "d3a03d0b",
   "metadata": {},
   "outputs": [],
   "source": [
    "## Split the data into train:validation:test in a ration of 80:10:10; \n",
    "\n",
    "X_train,X_rem,y_train,y_rem = train_test_split(X,y,train_size=0.8,random_state=9)\n",
    "\n",
    "X_valid, X_test, y_valid, y_test = train_test_split(X_rem,y_rem, test_size=0.5)"
   ]
  },
  {
   "cell_type": "code",
   "execution_count": 57,
   "id": "7db3b111",
   "metadata": {},
   "outputs": [
    {
     "name": "stdout",
     "output_type": "stream",
     "text": [
      "Training Set sizes: X: (40000, 1000), y: (40000,)\n",
      "Validation Set sizes: X: (5000, 1000), y: (5000,)\n",
      "Test Set sizes: X: (5000, 1000), y: (5000,)\n"
     ]
    }
   ],
   "source": [
    "print(\"Training Set sizes: X: {}, y: {}\".format(X_train.shape, y_train.shape))\n",
    "\n",
    "print(\"Validation Set sizes: X: {}, y: {}\".format(X_valid.shape, y_valid.shape))\n",
    "\n",
    "print(\"Test Set sizes: X: {}, y: {}\".format(X_test.shape, y_test.shape))\n"
   ]
  },
  {
   "cell_type": "code",
   "execution_count": 58,
   "id": "e58f4d1e",
   "metadata": {},
   "outputs": [
    {
     "data": {
      "text/plain": [
       "array([[0, 0, 0, ..., 0, 0, 0],\n",
       "       [0, 0, 0, ..., 0, 0, 0],\n",
       "       [0, 0, 0, ..., 0, 0, 0],\n",
       "       ...,\n",
       "       [2, 0, 0, ..., 0, 0, 0],\n",
       "       [1, 0, 0, ..., 0, 0, 0],\n",
       "       [0, 0, 0, ..., 0, 0, 0]])"
      ]
     },
     "execution_count": 58,
     "metadata": {},
     "output_type": "execute_result"
    }
   ],
   "source": [
    "X_train"
   ]
  },
  {
   "cell_type": "markdown",
   "id": "16e5c374",
   "metadata": {},
   "source": [
    "## MODEL 1) NAIVE BAYES - GAUSSIAN (GNB)\n",
    "\n",
    "In a Gaussian Naive Bayes we assume that the words associated with each class( i.e positive or negative) are distributed along a **Normal Distribution**. This means that the probability density function (PDF) of a given word can be modelled using a **Gaussian Function** of the form :  \n",
    "\n",
    "$p(x =v\\mid y_{k})={\\frac {1}{\\sqrt {2\\pi \\sigma _{k}^{2}}}}\\,e^{-{\\frac {(v-\\mu _{k})^{2}}{2\\sigma _{k}^{2}}}}$\n",
    "\n",
    "Where k = 2 (Number of classes - 0,1)\n",
    "\n",
    "For each word x the classifer calculates the probablity **P(x| Y = y).P(Y=y)** for each class (0/1) y. In our case , if P(x| Y = 0).P(Y=0) > P(x| Y = 1).P(Y=1) , then our classifer predicts 0 (negative) and vice versa."
   ]
  },
  {
   "cell_type": "code",
   "execution_count": 59,
   "id": "917e2e42",
   "metadata": {},
   "outputs": [],
   "source": [
    "from sklearn.naive_bayes import GaussianNB"
   ]
  },
  {
   "cell_type": "code",
   "execution_count": 60,
   "id": "9bfc7f82",
   "metadata": {},
   "outputs": [
    {
     "data": {
      "text/plain": [
       "GaussianNB()"
      ]
     },
     "execution_count": 60,
     "metadata": {},
     "output_type": "execute_result"
    }
   ],
   "source": [
    "#Initialize the Gaussian Naive Bayes Calssifyer\n",
    "gnb = GaussianNB()\n",
    "\n",
    "#Fit our training sets\n",
    "gnb.fit(X_train,y_train)"
   ]
  },
  {
   "cell_type": "markdown",
   "id": "e0b63f28",
   "metadata": {},
   "source": [
    "## MODEL 2) MULTIVARIATE NAIVE BAYES (MNB)\n",
    "\n",
    "In a Multivariate Model we assume that the words are not *discrete* variables but *continuous* variables therefore are distributed along a **Multinomial Distribution**. The Likelihood function of a Multivariate Distribution is as follows:\n",
    "\n",
    "$p(\\mathbf {x} \\mid C_{k})={\\frac {(\\sum _{i=1}^{n}x_{i})!}{\\prod _{i=1}^{n}x_{i}!}}\\prod _{i=1}^{n}{p_{ki}}^{x_{i}}$\n",
    "\n",
    "In order to find the maximizer of the above likelihood function, we take the log of the function and try to maximize it:\n",
    "\n",
    "${\\displaystyle {\\begin{aligned}\\log p(C_{k}\\mid \\mathbf {x} );=\\log p(C_{k})+\\sum _{i=1}^{n}x_{i}\\cdot \\log p_{ki}\\\\= \\log p(C_{k}) +\\mathbf {w} _{k}^{\\top }\\mathbf {x} \\end{aligned}}}$\n",
    "\n",
    "Where ${w} _{k}^{\\top }\\mathbf {x} $ referes to the covariance matrix of the multivariate distribution\n"
   ]
  },
  {
   "cell_type": "code",
   "execution_count": 61,
   "id": "c5641e62",
   "metadata": {},
   "outputs": [
    {
     "data": {
      "text/plain": [
       "MultinomialNB()"
      ]
     },
     "execution_count": 61,
     "metadata": {},
     "output_type": "execute_result"
    }
   ],
   "source": [
    "from sklearn.naive_bayes import MultinomialNB\n",
    "\n",
    "#Initialize the Bernoulli Multinomial Bayes Calssifyer\n",
    "mnb = MultinomialNB(alpha=1.0,fit_prior=True)\n",
    "\n",
    "#Fit our training sets\n",
    "mnb.fit(X_train,y_train)"
   ]
  },
  {
   "cell_type": "markdown",
   "id": "c0a7dc6d",
   "metadata": {},
   "source": [
    "## MODEL 3) BERNOULLI NAIVE BAYES (BNB)\n",
    "\n",
    "This is similar to a Multivariate Model, except individual words are treated as **Bernouli Random Variables**. That is, they are treated as Binary Variables- 0-1. This means that BNM differs from MNB, in that BNB measures onnly the presence/absence of a word. However a MNB measures the frequency (# of occourances) of a given word in a text. \n",
    "\n",
    "The likelihood function is as follows:\n",
    "\n",
    "${\\displaystyle p(\\mathbf {x} \\mid C_{k})=\\prod _{i=1}^{n}p_{ki}^{x_{i}}(1-p_{ki})^{(1-x_{i})}}$"
   ]
  },
  {
   "cell_type": "code",
   "execution_count": 62,
   "id": "908c93e4",
   "metadata": {},
   "outputs": [
    {
     "data": {
      "text/plain": [
       "BernoulliNB()"
      ]
     },
     "execution_count": 62,
     "metadata": {},
     "output_type": "execute_result"
    }
   ],
   "source": [
    "from sklearn.naive_bayes import BernoulliNB\n",
    "\n",
    "#Initialize the Bernoulli Naive Bayes Calssifiyer\n",
    "bnb = BernoulliNB(alpha=1.0,fit_prior=True)\n",
    "\n",
    "#Fit our training sets\n",
    "bnb.fit(X_train, y_train)"
   ]
  },
  {
   "cell_type": "markdown",
   "id": "0c3ec816",
   "metadata": {},
   "source": [
    "## MODEL 4) VADER SENTIMENT ANALYSIS\n",
    "\n",
    "**VADER**(*Valence Aware Dictionary and Sentiment Reasoner*) is a fully open-source lexicon and rule-based sentiment analysis tool that is specifically attuned to sentiments expressed in social media. \n",
    "Given the nature of IMBDB Ratings as bearing some resemblence to Social- Media and microblogging sites, this lexicon might be usefull in increasing model accuracy as it is designed to handle slang and social-media related lexicons.\n",
    "\n",
    "However, unlike our previous models the VADER lexicon assigns a *sentiment score* to each prediction. We then assign the classification of positive/negative(0,1) depending on a user-defined threshold. "
   ]
  },
  {
   "cell_type": "code",
   "execution_count": 63,
   "id": "cadd45ca",
   "metadata": {},
   "outputs": [],
   "source": [
    "from nltk.sentiment import SentimentIntensityAnalyzer \n",
    "# Download the VADER lexicon = nltk.download('vader_lexicon')\n",
    "\n",
    "\n",
    "#Initialize the NLTK Sentiment Analyzer\n",
    "sia = SentimentIntensityAnalyzer()"
   ]
  },
  {
   "cell_type": "code",
   "execution_count": 64,
   "id": "562fc2a2",
   "metadata": {},
   "outputs": [],
   "source": [
    "def calculate_sentiment_score(text):\n",
    "    sentiment_score = sia.polarity_scores(text)['compound']\n",
    "    return sentiment_score"
   ]
  },
  {
   "cell_type": "markdown",
   "id": "ac561cdf",
   "metadata": {},
   "source": [
    "### Create New Test-Train-Valid Set for the VADER Mode\n",
    "\n",
    "The Test, Train and Validity Tests on our previous models had been vectorized, i.e they no longer carried the same textual information. So we go use our original *cleaned* data set to create a new textual (String) test-train-validity set. "
   ]
  },
  {
   "cell_type": "code",
   "execution_count": 65,
   "id": "cee9eec1",
   "metadata": {},
   "outputs": [],
   "source": [
    "#X,y for Review and Sentiment respectively\n",
    "X1 = data.iloc[:,0]\n",
    "y1 = data.iloc[:,1]"
   ]
  },
  {
   "cell_type": "code",
   "execution_count": 66,
   "id": "826f4647",
   "metadata": {},
   "outputs": [],
   "source": [
    "scores = X1.apply(calculate_sentiment_score)"
   ]
  },
  {
   "cell_type": "code",
   "execution_count": null,
   "id": "75d0630a",
   "metadata": {},
   "outputs": [],
   "source": [
    "\n"
   ]
  },
  {
   "cell_type": "markdown",
   "id": "e6fb009a",
   "metadata": {},
   "source": [
    "# TESTING & EVALUATING MODELS\n",
    "\n",
    "Having fit all our models we will test how well they perform on our testing and validation sets"
   ]
  },
  {
   "cell_type": "code",
   "execution_count": 67,
   "id": "d188d45c",
   "metadata": {},
   "outputs": [],
   "source": [
    "from sklearn.metrics import accuracy_score"
   ]
  },
  {
   "cell_type": "markdown",
   "id": "8fb83d78",
   "metadata": {},
   "source": [
    "### Gaussian Naive Bayes:"
   ]
  },
  {
   "cell_type": "code",
   "execution_count": 68,
   "id": "767ac0b9",
   "metadata": {},
   "outputs": [],
   "source": [
    "valid_gaussian = gnb.predict(X_valid)\n",
    "test_gaussian = gnb.predict(X_test)"
   ]
  },
  {
   "cell_type": "markdown",
   "id": "b29f979b",
   "metadata": {},
   "source": [
    "**Accuracy**:"
   ]
  },
  {
   "cell_type": "code",
   "execution_count": 69,
   "id": "4aa6e23a",
   "metadata": {},
   "outputs": [
    {
     "name": "stdout",
     "output_type": "stream",
     "text": [
      "Gaussian_Validation_Accuracy =  0.7814\n",
      "Gaussian_Testing_Accuracy =  0.7872\n"
     ]
    }
   ],
   "source": [
    "print(\"Gaussian_Validation_Accuracy = \",accuracy_score(y_valid,valid_gaussian))\n",
    "print(\"Gaussian_Testing_Accuracy = \",accuracy_score(y_test,test_gaussian))"
   ]
  },
  {
   "cell_type": "markdown",
   "id": "96e6b041",
   "metadata": {},
   "source": [
    "### Multivariate Naive Bayes:"
   ]
  },
  {
   "cell_type": "code",
   "execution_count": 70,
   "id": "e2020b7f",
   "metadata": {},
   "outputs": [],
   "source": [
    "valid_multiv = mnb.predict(X_valid)\n",
    "test_multiv = mnb.predict(X_test)"
   ]
  },
  {
   "cell_type": "markdown",
   "id": "edbe4e9f",
   "metadata": {},
   "source": [
    "**Accuracy:**"
   ]
  },
  {
   "cell_type": "code",
   "execution_count": 71,
   "id": "e81d9054",
   "metadata": {},
   "outputs": [
    {
     "name": "stdout",
     "output_type": "stream",
     "text": [
      "Multivariate_Validation_Accuracy =  0.8326\n",
      "Multivariate_Testing_Accuracy =  0.8294\n"
     ]
    }
   ],
   "source": [
    "print(\"Multivariate_Validation_Accuracy = \",accuracy_score(y_valid,valid_multiv))\n",
    "print(\"Multivariate_Testing_Accuracy = \",accuracy_score(y_test,test_multiv))"
   ]
  },
  {
   "cell_type": "markdown",
   "id": "647f6184",
   "metadata": {},
   "source": [
    "### Bernouli Naive Bayes:"
   ]
  },
  {
   "cell_type": "code",
   "execution_count": 72,
   "id": "9c348fe2",
   "metadata": {},
   "outputs": [],
   "source": [
    "valid_bern = bnb.predict(X_valid)\n",
    "test_bern = bnb.predict(X_test)"
   ]
  },
  {
   "cell_type": "markdown",
   "id": "92a3accd",
   "metadata": {},
   "source": [
    "**Accuracy:**"
   ]
  },
  {
   "cell_type": "code",
   "execution_count": 73,
   "id": "32a0a818",
   "metadata": {},
   "outputs": [
    {
     "name": "stdout",
     "output_type": "stream",
     "text": [
      "Bernouli_Validation_Accuracy =  0.835\n",
      "Bernouli_Testing_Accuracy =  0.8422\n"
     ]
    }
   ],
   "source": [
    "print(\"Bernouli_Validation_Accuracy = \",accuracy_score(y_valid,valid_bern))\n",
    "print(\"Bernouli_Testing_Accuracy = \",accuracy_score(y_test,test_bern))"
   ]
  },
  {
   "cell_type": "markdown",
   "id": "240626bb",
   "metadata": {},
   "source": [
    "### Vader Analysis:"
   ]
  },
  {
   "cell_type": "code",
   "execution_count": 74,
   "id": "d84f6db8",
   "metadata": {},
   "outputs": [],
   "source": [
    "Vader_prediction = (scores>0).astype(int)"
   ]
  },
  {
   "cell_type": "markdown",
   "id": "5820f16e",
   "metadata": {},
   "source": [
    "**Accuracy:**"
   ]
  },
  {
   "cell_type": "code",
   "execution_count": 75,
   "id": "10dd5caa",
   "metadata": {},
   "outputs": [
    {
     "name": "stdout",
     "output_type": "stream",
     "text": [
      "VADER_Accuracy =  0.65336\n"
     ]
    }
   ],
   "source": [
    "print(\"VADER_Accuracy = \",accuracy_score(y1,Vader_prediction))"
   ]
  },
  {
   "cell_type": "markdown",
   "id": "9b00b6cc",
   "metadata": {},
   "source": [
    "## PRIMARY ACCURACY RANKING:\n",
    "\n",
    "- 1) Bernouli Naive Bayes - 83.8% Testing Accuracy\n",
    "- 2) Multivariate Naive Bayes - 83.2% Testing Accuracy\n",
    "- 3) Gaussian Naive Bayes - 78.4% Testing Accuracy\n",
    "- 4) VADER Sentiment Analysis - 65.3%"
   ]
  },
  {
   "cell_type": "markdown",
   "id": "fb6e6241",
   "metadata": {},
   "source": [
    "# IMPROVING ACCURACY\n",
    "\n",
    "We see that our **VADER Analysis** performed the worse out of the models. I suspect that this might be cause due to the cleaning process affecting the ability of the model. "
   ]
  },
  {
   "cell_type": "code",
   "execution_count": 76,
   "id": "1d57f405",
   "metadata": {},
   "outputs": [],
   "source": [
    "data1 = pd.read_csv(\"Downloads/IMDB Dataset.csv\")\n",
    "data1['review'] = data1['review'].apply(html_cleaner)"
   ]
  },
  {
   "cell_type": "code",
   "execution_count": 77,
   "id": "0566fbd5",
   "metadata": {},
   "outputs": [],
   "source": [
    "data1['review'] = data1['review'].apply(lambda x: x.lower())"
   ]
  },
  {
   "cell_type": "code",
   "execution_count": 78,
   "id": "433509f0",
   "metadata": {},
   "outputs": [],
   "source": [
    "data1['review'] = data1['review'].apply(remove_stopwords)"
   ]
  },
  {
   "cell_type": "code",
   "execution_count": 79,
   "id": "4acff2a6",
   "metadata": {},
   "outputs": [],
   "source": [
    "data1['review'] = data1['review'].apply(lambda x: \" \".join([word for word in x]))"
   ]
  },
  {
   "cell_type": "code",
   "execution_count": 80,
   "id": "b5874599",
   "metadata": {},
   "outputs": [],
   "source": [
    "scores_v2 = scores = data1['review'].apply(calculate_sentiment_score)"
   ]
  },
  {
   "cell_type": "code",
   "execution_count": 81,
   "id": "0654000d",
   "metadata": {},
   "outputs": [
    {
     "name": "stdout",
     "output_type": "stream",
     "text": [
      "VADER_NEW_Accuracy =  0.67528\n"
     ]
    }
   ],
   "source": [
    "Vader_prediction2 = (scores>0).astype(int)\n",
    "print(\"VADER_NEW_Accuracy = \",accuracy_score(y1,Vader_prediction2))"
   ]
  },
  {
   "cell_type": "code",
   "execution_count": null,
   "id": "168009b6",
   "metadata": {},
   "outputs": [],
   "source": []
  }
 ],
 "metadata": {
  "kernelspec": {
   "display_name": "Python 3 (ipykernel)",
   "language": "python",
   "name": "python3"
  },
  "language_info": {
   "codemirror_mode": {
    "name": "ipython",
    "version": 3
   },
   "file_extension": ".py",
   "mimetype": "text/x-python",
   "name": "python",
   "nbconvert_exporter": "python",
   "pygments_lexer": "ipython3",
   "version": "3.9.13"
  }
 },
 "nbformat": 4,
 "nbformat_minor": 5
}
